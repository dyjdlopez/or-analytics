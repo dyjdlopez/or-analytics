{
 "cells": [
  {
   "cell_type": "markdown",
   "id": "abcb67a4-41a4-4056-9c1d-6c2303cfdc73",
   "metadata": {},
   "source": [
    "# NCR District 4 Cell Tower Decision Support"
   ]
  },
  {
   "cell_type": "code",
   "execution_count": 1,
   "id": "fd5b7b19-c149-46fd-952c-61ae292d01b1",
   "metadata": {},
   "outputs": [],
   "source": [
    "import pandas as pd\n",
    "import numpy as np\n",
    "\n",
    "import gurobipy as gp\n",
    "from gurobipy import GRB\n",
    "\n",
    "import matplotlib.pyplot as plt\n",
    "import seaborn as sns"
   ]
  },
  {
   "cell_type": "markdown",
   "id": "48f8a2cd-f2a2-49a7-a167-1b01c72cf742",
   "metadata": {},
   "source": [
    "# Part 1: Problem Formulation"
   ]
  },
  {
   "cell_type": "markdown",
   "id": "33089ea5-00e0-45bc-bd6f-80e0652ce2aa",
   "metadata": {},
   "source": [
    "### Sets and Indices\n",
    "\n",
    "$i \\in T$: Index and set of potential sites to build a tower.\n",
    "\n",
    "$j \\in R$: Index and set of regions.\n",
    "\n",
    "$G(T,R,E)$: A bipartite graph defined over the set $T$ of potential sites to build a tower,  the set of regions $R$ that we want to cover, and $E$ is the set of edges, where we have an edge $(i,j) \\in E$ if region $j \\in R$ can be covered by a tower on location $i \\in T$.\n",
    "\n",
    "### Parameters\n",
    "\n",
    "$c_{i} \\in \\mathbb{R}^+$: The cost of setting up a tower at site $i$.\n",
    "\n",
    "$p_{j} \\in \\mathbb{N}$: The population at region $j$.\n",
    "\n",
    "### Decision Variables\n",
    "\n",
    "$covered_{j} \\in \\{0, 1 \\}$: This variable is equal to 1 if region $j$ is covered; and 0 otherwise.\n",
    "\n",
    "$build_{i} \\in \\{0, 1 \\}$: This variable is equal to 1 if tower $i$ is built; and 0 otherwise.\n",
    "\n",
    "### Objective Function(s)\n",
    "\n",
    "- **Population covered**. We seek to maximize the total population covered by the towers.\n",
    "\n",
    "\\begin{equation}\n",
    "\\text{Max} \\quad Z = \\sum_{j \\in R} p_{j} \\cdot covered_{j}\n",
    "\\tag{0}\n",
    "\\end{equation}\n",
    "\n",
    "### Constraints\n",
    "\n",
    "- **Coverage**. For each region $j \\in R$ ensure that at least one tower that covers a region must be selected.\n",
    "\n",
    "\\begin{equation}\n",
    "\\sum_{(i,j) \\in E} build_{i} \\geq covered_{j} \\quad \\forall j \\in R\n",
    "\\tag{1}\n",
    "\\end{equation}\n",
    "\n",
    "- **Budget**. We need to ensure that the total cost of building towers do not exceed the allocated budget.\n",
    "\n",
    "\\begin{equation}\n",
    "\\sum_{i \\in T} c_{i} \\cdot build_{i} \\leq \\text{budget}\n",
    "\\tag{2}\n",
    "\\end{equation}"
   ]
  },
  {
   "cell_type": "markdown",
   "id": "2035b384-9216-4e29-bd08-d63dd8d02d6c",
   "metadata": {},
   "source": [
    "This example considers a bipartite graph for 6 towers and 9 regions. The following table illustrates which regions (columns) are covered by each cell tower site (rows).\n",
    "\n",
    "| <i></i> | Las Piñas | Makati | Muntinlupa | Parañaque | Pasay | Pateros | Taguig |\n",
    "| --- | --- | --- | --- | --- | --- | --- | --- |\n",
    "| Tower 0 | - | 1 | 1 | - | - | 1 | - |\n",
    "| Tower 1 | 1 | - | - | - | 1 | - | - |\n",
    "| Tower 2 | 1 | - | 1 | 1 | - | - | 1 |\n",
    "| Tower 3 | - | - | 1 | - | 1 | - | 1 |\n"
   ]
  },
  {
   "cell_type": "markdown",
   "id": "9c52cbcf-93d9-4ea5-8dba-9e9215936979",
   "metadata": {},
   "source": [
    "### Retrieve Parameter Data"
   ]
  },
  {
   "cell_type": "code",
   "execution_count": 7,
   "id": "e4710bf0-8964-4295-b3f1-6f673243514a",
   "metadata": {},
   "outputs": [],
   "source": [
    "## Budget\n",
    "budget = 34.7 ## million pesos"
   ]
  },
  {
   "cell_type": "code",
   "execution_count": 8,
   "id": "d22da22c-2c98-4139-a6e1-b9047694679a",
   "metadata": {},
   "outputs": [
    {
     "data": {
      "text/html": [
       "<div>\n",
       "<style scoped>\n",
       "    .dataframe tbody tr th:only-of-type {\n",
       "        vertical-align: middle;\n",
       "    }\n",
       "\n",
       "    .dataframe tbody tr th {\n",
       "        vertical-align: top;\n",
       "    }\n",
       "\n",
       "    .dataframe thead th {\n",
       "        text-align: right;\n",
       "    }\n",
       "</style>\n",
       "<table border=\"1\" class=\"dataframe\">\n",
       "  <thead>\n",
       "    <tr style=\"text-align: right;\">\n",
       "      <th></th>\n",
       "      <th>city</th>\n",
       "      <th>population</th>\n",
       "    </tr>\n",
       "  </thead>\n",
       "  <tbody>\n",
       "    <tr>\n",
       "      <th>0</th>\n",
       "      <td>Las Piñas</td>\n",
       "      <td>686336</td>\n",
       "    </tr>\n",
       "    <tr>\n",
       "      <th>1</th>\n",
       "      <td>Makati</td>\n",
       "      <td>639590</td>\n",
       "    </tr>\n",
       "    <tr>\n",
       "      <th>2</th>\n",
       "      <td>Muntinlupa</td>\n",
       "      <td>591167</td>\n",
       "    </tr>\n",
       "    <tr>\n",
       "      <th>3</th>\n",
       "      <td>Parañaque</td>\n",
       "      <td>778498</td>\n",
       "    </tr>\n",
       "    <tr>\n",
       "      <th>4</th>\n",
       "      <td>Pasay</td>\n",
       "      <td>440990</td>\n",
       "    </tr>\n",
       "    <tr>\n",
       "      <th>5</th>\n",
       "      <td>Pateros</td>\n",
       "      <td>68950</td>\n",
       "    </tr>\n",
       "    <tr>\n",
       "      <th>6</th>\n",
       "      <td>Taguig</td>\n",
       "      <td>989407</td>\n",
       "    </tr>\n",
       "  </tbody>\n",
       "</table>\n",
       "</div>"
      ],
      "text/plain": [
       "         city  population\n",
       "0   Las Piñas      686336\n",
       "1      Makati      639590\n",
       "2  Muntinlupa      591167\n",
       "3   Parañaque      778498\n",
       "4       Pasay      440990\n",
       "5     Pateros       68950\n",
       "6      Taguig      989407"
      ]
     },
     "execution_count": 8,
     "metadata": {},
     "output_type": "execute_result"
    }
   ],
   "source": [
    "## Population Estimates\n",
    "population = pd.read_csv('data/dist4_2025_estimates.csv')\n",
    "cities = population.city\n",
    "population"
   ]
  },
  {
   "cell_type": "code",
   "execution_count": 9,
   "id": "70f4916c-d2d5-474b-b1ca-d3e1c27b6380",
   "metadata": {},
   "outputs": [
    {
     "data": {
      "text/html": [
       "<div>\n",
       "<style scoped>\n",
       "    .dataframe tbody tr th:only-of-type {\n",
       "        vertical-align: middle;\n",
       "    }\n",
       "\n",
       "    .dataframe tbody tr th {\n",
       "        vertical-align: top;\n",
       "    }\n",
       "\n",
       "    .dataframe thead th {\n",
       "        text-align: right;\n",
       "    }\n",
       "</style>\n",
       "<table border=\"1\" class=\"dataframe\">\n",
       "  <thead>\n",
       "    <tr style=\"text-align: right;\">\n",
       "      <th></th>\n",
       "      <th>tower</th>\n",
       "      <th>cost</th>\n",
       "    </tr>\n",
       "  </thead>\n",
       "  <tbody>\n",
       "    <tr>\n",
       "      <th>0</th>\n",
       "      <td>0</td>\n",
       "      <td>7.1</td>\n",
       "    </tr>\n",
       "    <tr>\n",
       "      <th>1</th>\n",
       "      <td>1</td>\n",
       "      <td>1.3</td>\n",
       "    </tr>\n",
       "    <tr>\n",
       "      <th>2</th>\n",
       "      <td>2</td>\n",
       "      <td>5.2</td>\n",
       "    </tr>\n",
       "    <tr>\n",
       "      <th>3</th>\n",
       "      <td>3</td>\n",
       "      <td>4.9</td>\n",
       "    </tr>\n",
       "  </tbody>\n",
       "</table>\n",
       "</div>"
      ],
      "text/plain": [
       "   tower  cost\n",
       "0      0   7.1\n",
       "1      1   1.3\n",
       "2      2   5.2\n",
       "3      3   4.9"
      ]
     },
     "execution_count": 9,
     "metadata": {},
     "output_type": "execute_result"
    }
   ],
   "source": [
    "## Tower Costs (in Million PHP)\n",
    "tower_cost = pd.read_csv('data/tower_cost.csv')\n",
    "tower_cost"
   ]
  }
 ],
 "metadata": {
  "kernelspec": {
   "display_name": "Python 3 (ipykernel)",
   "language": "python",
   "name": "python3"
  },
  "language_info": {
   "codemirror_mode": {
    "name": "ipython",
    "version": 3
   },
   "file_extension": ".py",
   "mimetype": "text/x-python",
   "name": "python",
   "nbconvert_exporter": "python",
   "pygments_lexer": "ipython3",
   "version": "3.9.13"
  }
 },
 "nbformat": 4,
 "nbformat_minor": 5
}

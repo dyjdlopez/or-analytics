{
 "cells": [
  {
   "cell_type": "markdown",
   "id": "826b49ff-ae12-4006-b18e-9397e42cf2d8",
   "metadata": {},
   "source": [
    "# NCR District 4 Population Estimation"
   ]
  },
  {
   "cell_type": "code",
   "execution_count": 1,
   "id": "fd5b7b19-c149-46fd-952c-61ae292d01b1",
   "metadata": {},
   "outputs": [],
   "source": [
    "import pandas as pd\n",
    "import numpy as np\n",
    "\n",
    "from sklearn.linear_model import LinearRegression\n",
    "\n",
    "import matplotlib.pyplot as plt\n",
    "import seaborn as sns"
   ]
  },
  {
   "cell_type": "markdown",
   "id": "9c52cbcf-93d9-4ea5-8dba-9e9215936979",
   "metadata": {},
   "source": [
    "### Retrieve Data"
   ]
  },
  {
   "cell_type": "code",
   "execution_count": 2,
   "id": "d22da22c-2c98-4139-a6e1-b9047694679a",
   "metadata": {},
   "outputs": [
    {
     "data": {
      "text/html": [
       "<div>\n",
       "<style scoped>\n",
       "    .dataframe tbody tr th:only-of-type {\n",
       "        vertical-align: middle;\n",
       "    }\n",
       "\n",
       "    .dataframe tbody tr th {\n",
       "        vertical-align: top;\n",
       "    }\n",
       "\n",
       "    .dataframe thead th {\n",
       "        text-align: right;\n",
       "    }\n",
       "</style>\n",
       "<table border=\"1\" class=\"dataframe\">\n",
       "  <thead>\n",
       "    <tr style=\"text-align: right;\">\n",
       "      <th></th>\n",
       "      <th>city</th>\n",
       "      <th>1990</th>\n",
       "      <th>2000</th>\n",
       "      <th>2010</th>\n",
       "      <th>2015</th>\n",
       "      <th>2020</th>\n",
       "      <th>district</th>\n",
       "    </tr>\n",
       "  </thead>\n",
       "  <tbody>\n",
       "    <tr>\n",
       "      <th>0</th>\n",
       "      <td>Manila</td>\n",
       "      <td>1601234</td>\n",
       "      <td>1581082</td>\n",
       "      <td>1652171</td>\n",
       "      <td>1780148</td>\n",
       "      <td>1846513</td>\n",
       "      <td>1</td>\n",
       "    </tr>\n",
       "    <tr>\n",
       "      <th>1</th>\n",
       "      <td>Mandaluyong</td>\n",
       "      <td>248143</td>\n",
       "      <td>278474</td>\n",
       "      <td>328699</td>\n",
       "      <td>386276</td>\n",
       "      <td>425758</td>\n",
       "      <td>2</td>\n",
       "    </tr>\n",
       "    <tr>\n",
       "      <th>2</th>\n",
       "      <td>Marikina</td>\n",
       "      <td>310227</td>\n",
       "      <td>391170</td>\n",
       "      <td>424150</td>\n",
       "      <td>450741</td>\n",
       "      <td>456059</td>\n",
       "      <td>2</td>\n",
       "    </tr>\n",
       "    <tr>\n",
       "      <th>3</th>\n",
       "      <td>Pasig</td>\n",
       "      <td>397679</td>\n",
       "      <td>505058</td>\n",
       "      <td>669773</td>\n",
       "      <td>755300</td>\n",
       "      <td>803159</td>\n",
       "      <td>2</td>\n",
       "    </tr>\n",
       "    <tr>\n",
       "      <th>4</th>\n",
       "      <td>Quezon City</td>\n",
       "      <td>1669776</td>\n",
       "      <td>2173831</td>\n",
       "      <td>2761720</td>\n",
       "      <td>2936116</td>\n",
       "      <td>2960048</td>\n",
       "      <td>2</td>\n",
       "    </tr>\n",
       "  </tbody>\n",
       "</table>\n",
       "</div>"
      ],
      "text/plain": [
       "          city     1990     2000     2010     2015     2020  district\n",
       "0       Manila  1601234  1581082  1652171  1780148  1846513         1\n",
       "1  Mandaluyong   248143   278474   328699   386276   425758         2\n",
       "2     Marikina   310227   391170   424150   450741   456059         2\n",
       "3        Pasig   397679   505058   669773   755300   803159         2\n",
       "4  Quezon City  1669776  2173831  2761720  2936116  2960048         2"
      ]
     },
     "execution_count": 2,
     "metadata": {},
     "output_type": "execute_result"
    }
   ],
   "source": [
    "ncr_df = pd.read_csv('data/ncr_cities.csv')\n",
    "ncr_df.head()"
   ]
  },
  {
   "cell_type": "markdown",
   "id": "3e5e820c-7e88-4689-b5c7-6b0ac7555b3b",
   "metadata": {},
   "source": [
    "### Prepare the dataset"
   ]
  },
  {
   "cell_type": "code",
   "execution_count": 3,
   "id": "25894ba0-50b1-4aa4-82fa-1fc90d089931",
   "metadata": {},
   "outputs": [
    {
     "data": {
      "text/html": [
       "<div>\n",
       "<style scoped>\n",
       "    .dataframe tbody tr th:only-of-type {\n",
       "        vertical-align: middle;\n",
       "    }\n",
       "\n",
       "    .dataframe tbody tr th {\n",
       "        vertical-align: top;\n",
       "    }\n",
       "\n",
       "    .dataframe thead th {\n",
       "        text-align: right;\n",
       "    }\n",
       "</style>\n",
       "<table border=\"1\" class=\"dataframe\">\n",
       "  <thead>\n",
       "    <tr style=\"text-align: right;\">\n",
       "      <th></th>\n",
       "      <th>city</th>\n",
       "      <th>1990</th>\n",
       "      <th>2000</th>\n",
       "      <th>2010</th>\n",
       "      <th>2015</th>\n",
       "      <th>2020</th>\n",
       "    </tr>\n",
       "  </thead>\n",
       "  <tbody>\n",
       "    <tr>\n",
       "      <th>10</th>\n",
       "      <td>Las Piñas</td>\n",
       "      <td>297102</td>\n",
       "      <td>472780</td>\n",
       "      <td>552573</td>\n",
       "      <td>588894</td>\n",
       "      <td>606293</td>\n",
       "    </tr>\n",
       "    <tr>\n",
       "      <th>11</th>\n",
       "      <td>Makati</td>\n",
       "      <td>453170</td>\n",
       "      <td>471379</td>\n",
       "      <td>529039</td>\n",
       "      <td>582602</td>\n",
       "      <td>629616</td>\n",
       "    </tr>\n",
       "    <tr>\n",
       "      <th>12</th>\n",
       "      <td>Muntinlupa</td>\n",
       "      <td>278411</td>\n",
       "      <td>379310</td>\n",
       "      <td>459941</td>\n",
       "      <td>504509</td>\n",
       "      <td>543445</td>\n",
       "    </tr>\n",
       "    <tr>\n",
       "      <th>13</th>\n",
       "      <td>Parañaque</td>\n",
       "      <td>308236</td>\n",
       "      <td>449811</td>\n",
       "      <td>588126</td>\n",
       "      <td>665822</td>\n",
       "      <td>689992</td>\n",
       "    </tr>\n",
       "    <tr>\n",
       "      <th>14</th>\n",
       "      <td>Pasay</td>\n",
       "      <td>368366</td>\n",
       "      <td>354908</td>\n",
       "      <td>392869</td>\n",
       "      <td>416522</td>\n",
       "      <td>440656</td>\n",
       "    </tr>\n",
       "    <tr>\n",
       "      <th>15</th>\n",
       "      <td>Pateros</td>\n",
       "      <td>51409</td>\n",
       "      <td>57407</td>\n",
       "      <td>64147</td>\n",
       "      <td>63840</td>\n",
       "      <td>65227</td>\n",
       "    </tr>\n",
       "    <tr>\n",
       "      <th>16</th>\n",
       "      <td>Taguig</td>\n",
       "      <td>266637</td>\n",
       "      <td>467375</td>\n",
       "      <td>644473</td>\n",
       "      <td>804915</td>\n",
       "      <td>886722</td>\n",
       "    </tr>\n",
       "  </tbody>\n",
       "</table>\n",
       "</div>"
      ],
      "text/plain": [
       "          city    1990    2000    2010    2015    2020\n",
       "10   Las Piñas  297102  472780  552573  588894  606293\n",
       "11      Makati  453170  471379  529039  582602  629616\n",
       "12  Muntinlupa  278411  379310  459941  504509  543445\n",
       "13   Parañaque  308236  449811  588126  665822  689992\n",
       "14       Pasay  368366  354908  392869  416522  440656\n",
       "15     Pateros   51409   57407   64147   63840   65227\n",
       "16      Taguig  266637  467375  644473  804915  886722"
      ]
     },
     "execution_count": 3,
     "metadata": {},
     "output_type": "execute_result"
    }
   ],
   "source": [
    "dist4_df = ncr_df[ncr_df.district == 4].drop(columns='district')\n",
    "dist4_df"
   ]
  },
  {
   "cell_type": "code",
   "execution_count": 4,
   "id": "70e1c500-2e61-4fcd-ba62-d7b7dbcf936d",
   "metadata": {},
   "outputs": [],
   "source": [
    "dist4_melt_df = dist4_df.melt(id_vars=['city'], var_name='year', value_name='population')"
   ]
  },
  {
   "cell_type": "code",
   "execution_count": 5,
   "id": "4f21672a-fd30-4fe7-a4a7-cfe5c3ebd296",
   "metadata": {},
   "outputs": [
    {
     "data": {
      "text/plain": [
       "array(['Las Piñas', 'Makati', 'Muntinlupa', 'Parañaque', 'Pasay',\n",
       "       'Pateros', 'Taguig'], dtype=object)"
      ]
     },
     "execution_count": 5,
     "metadata": {},
     "output_type": "execute_result"
    }
   ],
   "source": [
    "cities = dist4_melt_df['city'].unique()\n",
    "cities"
   ]
  },
  {
   "cell_type": "markdown",
   "id": "3cfe6902-de43-4c06-80df-22d817e484a5",
   "metadata": {},
   "source": [
    "### Prototype a model predictor using one city"
   ]
  },
  {
   "cell_type": "code",
   "execution_count": 6,
   "id": "5450555f-e8d7-42bf-8979-1d8da0a07a82",
   "metadata": {},
   "outputs": [
    {
     "data": {
      "text/html": [
       "<div>\n",
       "<style scoped>\n",
       "    .dataframe tbody tr th:only-of-type {\n",
       "        vertical-align: middle;\n",
       "    }\n",
       "\n",
       "    .dataframe tbody tr th {\n",
       "        vertical-align: top;\n",
       "    }\n",
       "\n",
       "    .dataframe thead th {\n",
       "        text-align: right;\n",
       "    }\n",
       "</style>\n",
       "<table border=\"1\" class=\"dataframe\">\n",
       "  <thead>\n",
       "    <tr style=\"text-align: right;\">\n",
       "      <th></th>\n",
       "      <th>year</th>\n",
       "      <th>population</th>\n",
       "    </tr>\n",
       "  </thead>\n",
       "  <tbody>\n",
       "    <tr>\n",
       "      <th>1</th>\n",
       "      <td>1990</td>\n",
       "      <td>453170</td>\n",
       "    </tr>\n",
       "    <tr>\n",
       "      <th>8</th>\n",
       "      <td>2000</td>\n",
       "      <td>471379</td>\n",
       "    </tr>\n",
       "    <tr>\n",
       "      <th>15</th>\n",
       "      <td>2010</td>\n",
       "      <td>529039</td>\n",
       "    </tr>\n",
       "    <tr>\n",
       "      <th>22</th>\n",
       "      <td>2015</td>\n",
       "      <td>582602</td>\n",
       "    </tr>\n",
       "    <tr>\n",
       "      <th>29</th>\n",
       "      <td>2020</td>\n",
       "      <td>629616</td>\n",
       "    </tr>\n",
       "  </tbody>\n",
       "</table>\n",
       "</div>"
      ],
      "text/plain": [
       "    year  population\n",
       "1   1990      453170\n",
       "8   2000      471379\n",
       "15  2010      529039\n",
       "22  2015      582602\n",
       "29  2020      629616"
      ]
     },
     "execution_count": 6,
     "metadata": {},
     "output_type": "execute_result"
    }
   ],
   "source": [
    "makati = dist4_melt_df[dist4_melt_df.city == 'Makati'].drop(columns='city')\n",
    "makati"
   ]
  },
  {
   "cell_type": "code",
   "execution_count": 7,
   "id": "dd203cc6-06fa-423a-b73c-24470a8f98e0",
   "metadata": {},
   "outputs": [
    {
     "data": {
      "text/html": [
       "<style>#sk-container-id-1 {color: black;background-color: white;}#sk-container-id-1 pre{padding: 0;}#sk-container-id-1 div.sk-toggleable {background-color: white;}#sk-container-id-1 label.sk-toggleable__label {cursor: pointer;display: block;width: 100%;margin-bottom: 0;padding: 0.3em;box-sizing: border-box;text-align: center;}#sk-container-id-1 label.sk-toggleable__label-arrow:before {content: \"▸\";float: left;margin-right: 0.25em;color: #696969;}#sk-container-id-1 label.sk-toggleable__label-arrow:hover:before {color: black;}#sk-container-id-1 div.sk-estimator:hover label.sk-toggleable__label-arrow:before {color: black;}#sk-container-id-1 div.sk-toggleable__content {max-height: 0;max-width: 0;overflow: hidden;text-align: left;background-color: #f0f8ff;}#sk-container-id-1 div.sk-toggleable__content pre {margin: 0.2em;color: black;border-radius: 0.25em;background-color: #f0f8ff;}#sk-container-id-1 input.sk-toggleable__control:checked~div.sk-toggleable__content {max-height: 200px;max-width: 100%;overflow: auto;}#sk-container-id-1 input.sk-toggleable__control:checked~label.sk-toggleable__label-arrow:before {content: \"▾\";}#sk-container-id-1 div.sk-estimator input.sk-toggleable__control:checked~label.sk-toggleable__label {background-color: #d4ebff;}#sk-container-id-1 div.sk-label input.sk-toggleable__control:checked~label.sk-toggleable__label {background-color: #d4ebff;}#sk-container-id-1 input.sk-hidden--visually {border: 0;clip: rect(1px 1px 1px 1px);clip: rect(1px, 1px, 1px, 1px);height: 1px;margin: -1px;overflow: hidden;padding: 0;position: absolute;width: 1px;}#sk-container-id-1 div.sk-estimator {font-family: monospace;background-color: #f0f8ff;border: 1px dotted black;border-radius: 0.25em;box-sizing: border-box;margin-bottom: 0.5em;}#sk-container-id-1 div.sk-estimator:hover {background-color: #d4ebff;}#sk-container-id-1 div.sk-parallel-item::after {content: \"\";width: 100%;border-bottom: 1px solid gray;flex-grow: 1;}#sk-container-id-1 div.sk-label:hover label.sk-toggleable__label {background-color: #d4ebff;}#sk-container-id-1 div.sk-serial::before {content: \"\";position: absolute;border-left: 1px solid gray;box-sizing: border-box;top: 0;bottom: 0;left: 50%;z-index: 0;}#sk-container-id-1 div.sk-serial {display: flex;flex-direction: column;align-items: center;background-color: white;padding-right: 0.2em;padding-left: 0.2em;position: relative;}#sk-container-id-1 div.sk-item {position: relative;z-index: 1;}#sk-container-id-1 div.sk-parallel {display: flex;align-items: stretch;justify-content: center;background-color: white;position: relative;}#sk-container-id-1 div.sk-item::before, #sk-container-id-1 div.sk-parallel-item::before {content: \"\";position: absolute;border-left: 1px solid gray;box-sizing: border-box;top: 0;bottom: 0;left: 50%;z-index: -1;}#sk-container-id-1 div.sk-parallel-item {display: flex;flex-direction: column;z-index: 1;position: relative;background-color: white;}#sk-container-id-1 div.sk-parallel-item:first-child::after {align-self: flex-end;width: 50%;}#sk-container-id-1 div.sk-parallel-item:last-child::after {align-self: flex-start;width: 50%;}#sk-container-id-1 div.sk-parallel-item:only-child::after {width: 0;}#sk-container-id-1 div.sk-dashed-wrapped {border: 1px dashed gray;margin: 0 0.4em 0.5em 0.4em;box-sizing: border-box;padding-bottom: 0.4em;background-color: white;}#sk-container-id-1 div.sk-label label {font-family: monospace;font-weight: bold;display: inline-block;line-height: 1.2em;}#sk-container-id-1 div.sk-label-container {text-align: center;}#sk-container-id-1 div.sk-container {/* jupyter's `normalize.less` sets `[hidden] { display: none; }` but bootstrap.min.css set `[hidden] { display: none !important; }` so we also need the `!important` here to be able to override the default hidden behavior on the sphinx rendered scikit-learn.org. See: https://github.com/scikit-learn/scikit-learn/issues/21755 */display: inline-block !important;position: relative;}#sk-container-id-1 div.sk-text-repr-fallback {display: none;}</style><div id=\"sk-container-id-1\" class=\"sk-top-container\"><div class=\"sk-text-repr-fallback\"><pre>LinearRegression()</pre><b>In a Jupyter environment, please rerun this cell to show the HTML representation or trust the notebook. <br />On GitHub, the HTML representation is unable to render, please try loading this page with nbviewer.org.</b></div><div class=\"sk-container\" hidden><div class=\"sk-item\"><div class=\"sk-estimator sk-toggleable\"><input class=\"sk-toggleable__control sk-hidden--visually\" id=\"sk-estimator-id-1\" type=\"checkbox\" checked><label for=\"sk-estimator-id-1\" class=\"sk-toggleable__label sk-toggleable__label-arrow\">LinearRegression</label><div class=\"sk-toggleable__content\"><pre>LinearRegression()</pre></div></div></div></div></div>"
      ],
      "text/plain": [
       "LinearRegression()"
      ]
     },
     "execution_count": 7,
     "metadata": {},
     "output_type": "execute_result"
    }
   ],
   "source": [
    "X = makati.year.values.reshape(-1,1)\n",
    "y = makati.population.values.reshape(-1,1)\n",
    "makati_model = LinearRegression()\n",
    "makati_model.fit(X,y)"
   ]
  },
  {
   "cell_type": "code",
   "execution_count": 8,
   "id": "3f26d74c-4fe0-47e2-9c5e-4283b3998c03",
   "metadata": {},
   "outputs": [
    {
     "data": {
      "text/plain": [
       "[<matplotlib.lines.Line2D at 0x1c7afe6c040>]"
      ]
     },
     "execution_count": 8,
     "metadata": {},
     "output_type": "execute_result"
    },
    {
     "data": {
      "image/png": "[encoded data removed]",
      "text/plain": [
       "<Figure size 640x480 with 1 Axes>"
      ]
     },
     "metadata": {},
     "output_type": "display_data"
    }
   ],
   "source": [
    "plt.plot(makati.year, makati.population)\n",
    "plt.plot(makati.year, makati_model.predict(makati.year.values.reshape(-1,1)))"
   ]
  },
  {
   "cell_type": "code",
   "execution_count": 9,
   "id": "d5e0bc56-7e9e-4db5-9ed3-50e325324501",
   "metadata": {},
   "outputs": [
    {
     "data": {
      "text/plain": [
       "array([[639590.79310345]])"
      ]
     },
     "execution_count": 9,
     "metadata": {},
     "output_type": "execute_result"
    }
   ],
   "source": [
    "makati_model.predict(np.array([[2025]]))"
   ]
  },
  {
   "cell_type": "markdown",
   "id": "bde213f7-814b-40a6-b788-05f3efb5fdaf",
   "metadata": {},
   "source": [
    "### Make a subroutine for making the estimates"
   ]
  },
  {
   "cell_type": "code",
   "execution_count": 10,
   "id": "8b743fa4-c9ad-442e-9f10-8b4eb5e2d113",
   "metadata": {},
   "outputs": [],
   "source": [
    "def make_2025_estimates(data, cities, save_loc='.'):\n",
    "    \n",
    "    estimates_2025 = {\n",
    "        'city': cities,\n",
    "        'population': []\n",
    "    }\n",
    "    \n",
    "    for i in range(len(cities)):\n",
    "        city_data = data[data.city == cities[i]].drop(columns='city')\n",
    "        X = city_data.year.values.reshape(-1,1)\n",
    "        y = city_data.population.values.reshape(-1,1)\n",
    "        model = LinearRegression()\n",
    "        model.fit(X,y)\n",
    "        \n",
    "        estimates = model.predict(np.array([[2025]])).ravel()[0]\n",
    "        \n",
    "        estimates_2025['population'].append(int(estimates))\n",
    "        \n",
    "    estimates_df = pd.DataFrame(estimates_2025)\n",
    "    estimates_df.to_csv(f'{save_loc}\\dist4_2025_estimates.csv', index=False)\n",
    "                        \n",
    "    return estimates_df"
   ]
  },
  {
   "cell_type": "code",
   "execution_count": 12,
   "id": "363631db-b646-45c0-9123-ed0ae01b9d96",
   "metadata": {},
   "outputs": [],
   "source": [
    "estimates = make_2025_estimates(dist4_melt_df, cities, 'data')"
   ]
  }
 ],
 "metadata": {
  "kernelspec": {
   "display_name": "Python 3 (ipykernel)",
   "language": "python",
   "name": "python3"
  },
  "language_info": {
   "codemirror_mode": {
    "name": "ipython",
    "version": 3
   },
   "file_extension": ".py",
   "mimetype": "text/x-python",
   "name": "python",
   "nbconvert_exporter": "python",
   "pygments_lexer": "ipython3",
   "version": "3.9.13"
  }
 },
 "nbformat": 4,
 "nbformat_minor": 5
}
